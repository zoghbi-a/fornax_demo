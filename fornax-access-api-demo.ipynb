{
 "cells": [
  {
   "cell_type": "markdown",
   "id": "c32d9426-6be9-44e1-815d-bcdcbdaa9d6d",
   "metadata": {},
   "source": [
    "# Fornax Cloud Access Demo\n",
    "\n",
    "This notebook illustrates the cloud access tools developed as part of the Fornax project.\n",
    "\n",
    "It uses `pyvo`, a python client that uses the Virtual Observatory protocols to find data, then it uses the code from the `fornax` library to download data from the cloud. These features are illustrated by finding data for the galaxy M82 from HST, Galex, Chandra and Spitzer and downloading it from AWS.\n"
   ]
  },
  {
   "cell_type": "markdown",
   "id": "303fa391-f606-4b0d-bbc5-4e855213bf97",
   "metadata": {
    "tags": []
   },
   "source": [
    "---\n",
    "## 1. Introduction\n",
    "- The platform has a wide range pre-installed software. \n",
    "\n",
    "- Users will also be able to install other tools (e.g. using `pip install ...` for python).\n",
    "\n",
    "- In this example, we call functions in `demo_helpers` to install some libraries that enable our `fornax` module to run.\n",
    "\n",
    "- Next, we define a sky position that we will use throught the notebook.\n"
   ]
  },
  {
   "cell_type": "markdown",
   "id": "cc427681-35b1-43eb-bf0e-da1cbb130134",
   "metadata": {},
   "source": [
    "#### Import the `fornax` module"
   ]
  },
  {
   "cell_type": "code",
   "execution_count": null,
   "id": "d8f0b5e3-39c2-48ac-b0d4-9a50a8eeac34",
   "metadata": {
    "tags": []
   },
   "outputs": [],
   "source": [
    "from demo_helpers import *\n",
    "import fornax"
   ]
  },
  {
   "cell_type": "markdown",
   "id": "aad0fb49-b5c1-4bb9-b6df-040fe3c20ad3",
   "metadata": {},
   "source": [
    "#### Define some sky position"
   ]
  },
  {
   "cell_type": "code",
   "execution_count": null,
   "id": "f8287ef3-a133-4331-b566-aa5c8055713a",
   "metadata": {
    "tags": []
   },
   "outputs": [],
   "source": [
    "pos = coord.SkyCoord.from_name(\"M82\")"
   ]
  },
  {
   "cell_type": "markdown",
   "id": "3e87e0a3-a5cd-45b1-b363-c12c3b1855a8",
   "metadata": {
    "tags": []
   },
   "source": [
    "---\n",
    "## 2. Discovery of Cloud Data\n",
    "- Data in the cloud is discovered though the archive discovery and search tools that use the VO standards.\n",
    "- For example: a request to MAST services for 'GALEX Images of M82' will return new information of where in the cloud the data is stored.\n",
    "- Because we use VO standards. All VO clients can find this information."
   ]
  },
  {
   "cell_type": "code",
   "execution_count": null,
   "id": "80d1ebe2-f78c-4ee8-b62a-0b342135a839",
   "metadata": {
    "tags": []
   },
   "outputs": [],
   "source": [
    "galex_url = 'https://mast.stsci.edu/portal_vo/Mashup/VoQuery.asmx/SiaV1?MISSION=GALEX&'\n",
    "galex_service = pyvo.dal.sia.SIAService(galex_url)\n",
    "query_result = galex_service.search(pos=(pos.ra.deg, pos.dec.deg), size=10*u.arcsec)\n",
    "galex_result = filter_galex_results(query_result)\n",
    "print(f'The query returned {len(query_result)} entries')"
   ]
  },
  {
   "cell_type": "markdown",
   "id": "05b9e0b4-e84e-46b4-a758-bee363e722e2",
   "metadata": {},
   "source": [
    "- The service returns information about how to access the data from on-prem servers as well as the cloud"
   ]
  },
  {
   "cell_type": "code",
   "execution_count": null,
   "id": "53ca658f-e88f-45fa-bf32-426d66cf2e60",
   "metadata": {
    "scrolled": true,
    "tags": []
   },
   "outputs": [],
   "source": [
    "galex_result[['accessURL', 'cloud_access']]"
   ]
  },
  {
   "cell_type": "markdown",
   "id": "6f684930-5f3a-4ed9-a4b1-412915ca79a9",
   "metadata": {
    "tags": []
   },
   "source": [
    "---\n",
    "## 3. Accessing & Downloading Cloud Data\n",
    "- Once data is discoverd, we provide the tools that allow the user to select and download the data from the cloud"
   ]
  },
  {
   "cell_type": "code",
   "execution_count": null,
   "id": "fe88de6c-467f-44ce-bc5c-d8e46b879653",
   "metadata": {
    "tags": []
   },
   "outputs": [],
   "source": [
    "# For the search query above\n",
    "print(galex_result[0]['cloud_access'], '\\n')\n",
    "\n",
    "galex_aws = fornax.get_data_product2(galex_result[1], 'aws')\n",
    "galex_file = galex_aws.download()\n",
    "\n",
    "print(f'\\nThe Downloaded file is: {galex_file}')"
   ]
  },
  {
   "cell_type": "markdown",
   "id": "d47c19f7-ef0c-4a93-91f4-542b655efc50",
   "metadata": {},
   "source": [
    "- Now we can display it"
   ]
  },
  {
   "cell_type": "code",
   "execution_count": null,
   "id": "ba89ab0f-85df-4c81-90b6-75be645b5ee5",
   "metadata": {
    "tags": []
   },
   "outputs": [],
   "source": [
    "fig = plt.figure(figsize=(7,7))\n",
    "plt.imshow(plt.imread(galex_file)[600:-600,600:-600])"
   ]
  },
  {
   "cell_type": "markdown",
   "id": "084871b3-0611-4e16-bc7c-887961af5930",
   "metadata": {},
   "source": [
    "\n",
    "### 3.1 Examples From The Three Archives\n",
    "- Here we show examples of finding and downloading data from the three archives.\n",
    "- First, the archives services are queried to find the data\n",
    "- Then, we select to download it from the on-prem or the cloud"
   ]
  },
  {
   "cell_type": "markdown",
   "id": "6d4048fb-ab04-42a8-8cd3-63f942379758",
   "metadata": {
    "tags": []
   },
   "source": [
    "#### A. HST data from On-prem (MAST):"
   ]
  },
  {
   "cell_type": "code",
   "execution_count": null,
   "id": "34af47bb-163c-4cb8-9dfa-5c8752ebd040",
   "metadata": {
    "tags": []
   },
   "outputs": [],
   "source": [
    "hst_url = 'https://mast.stsci.edu/portal_vo/Mashup/VoQuery.asmx/SiaV1?MISSION=HST&'\n",
    "hst_service = pyvo.dal.sia.SIAService(hst_url)\n",
    "query_result = hst_service.search(pos=(pos.ra.deg, pos.dec.deg), size=10*u.arcsec)\n",
    "hst_result = filter_hst_results(query_result)\n",
    "print(f'The query returned {len(query_result)} entries')"
   ]
  },
  {
   "cell_type": "code",
   "execution_count": null,
   "id": "93c983c2-2b75-4ca6-bd2c-4e16455050b0",
   "metadata": {
    "tags": []
   },
   "outputs": [],
   "source": [
    "hst_prem = fornax.get_data_product2(hst_result[-4], 'prem')\n",
    "hst_file = hst_prem.download()\n",
    "print(f'\\nThe Downloaded file is: {hst_file}')"
   ]
  },
  {
   "cell_type": "code",
   "execution_count": null,
   "id": "dc1a76cc-3c2b-468e-b6b7-581540c09322",
   "metadata": {
    "tags": []
   },
   "outputs": [],
   "source": [
    "# display the HST image\n",
    "fig = plt.figure(figsize=(7,7))\n",
    "plt.imshow(plt.imread(hst_file)[20:-20,20:-20])"
   ]
  },
  {
   "cell_type": "markdown",
   "id": "646a6135-921c-4804-af4e-bbff9b1f0077",
   "metadata": {
    "tags": []
   },
   "source": [
    "#### B. Chandra data from AWS (HEASARC):"
   ]
  },
  {
   "cell_type": "code",
   "execution_count": null,
   "id": "2b8b8b6d-0d3c-4690-a8d9-9828fd9254e4",
   "metadata": {
    "tags": []
   },
   "outputs": [],
   "source": [
    "# Query data provider \n",
    "chandra_url = 'https://heasarc.gsfc.nasa.gov/xamin_aws/vo/sia?table=chanmaster'\n",
    "chandra_service = pyvo.dal.sia.SIAService(chandra_url)\n",
    "query_result = chandra_service.search(pos=(pos.ra.deg, pos.dec.deg), size=10*u.arcsec)\n",
    "print(f'The query returned {len(query_result)} entries')"
   ]
  },
  {
   "cell_type": "code",
   "execution_count": null,
   "id": "b3dcf0d0-8fcf-44f1-8e52-c6a0c4aefa38",
   "metadata": {
    "tags": []
   },
   "outputs": [],
   "source": [
    "chandra_aws = fornax.get_data_product2(query_result[-5], 'aws', 'ucd')\n",
    "chandra_file = chandra_aws.download()\n",
    "\n",
    "print(f'\\nThe Downloaded file is: {chandra_file}')"
   ]
  },
  {
   "cell_type": "code",
   "execution_count": null,
   "id": "5e67d4aa-4af0-45e7-a8f0-da427c5f2919",
   "metadata": {
    "tags": []
   },
   "outputs": [],
   "source": [
    "# Display Chandra image\n",
    "fig = plt.figure(figsize=(7,7))\n",
    "plt.imshow(plt.imread(chandra_file)[600:-50,300:-300])"
   ]
  },
  {
   "cell_type": "code",
   "execution_count": null,
   "id": "81acbda6-d3fb-4994-bb42-d0abb509a82e",
   "metadata": {
    "tags": []
   },
   "outputs": [],
   "source": [
    "spizter_url = 'https://irsa.ipac.caltech.edu/SIA'\n",
    "spizter_service = pyvo.dal.sia2.SIAService(spizter_url)\n",
    "query_result = spizter_service.search(pos=(pos.ra.deg, pos.dec.deg, 10*u.arcsec),\n",
    "                                      collection='spitzer_seip')\n",
    "# get it in a table format\n",
    "spitzer_result = query_result.to_table()\n",
    "spitzer_result.sort('access_url')\n",
    "\n",
    "\n",
    "print(f'The query returned {len(query_result)} entries')"
   ]
  },
  {
   "cell_type": "code",
   "execution_count": null,
   "id": "3b0b939f-8763-42c0-912d-222b13b8fa60",
   "metadata": {
    "tags": []
   },
   "outputs": [],
   "source": [
    "t0 = time.time()\n",
    "spitzer_aws = fornax.get_data_product2(spitzer_result[4], 'aws')\n",
    "spitzer_file = spitzer_aws.download()\n",
    "\n",
    "print(f'\\nThe Downloaded file is: {spitzer_file}')\n",
    "print(f'It took {time.time() - t0:.3} seconds')"
   ]
  },
  {
   "cell_type": "code",
   "execution_count": null,
   "id": "9ed7169a-3aa9-4e87-b681-b921f8e2fcbb",
   "metadata": {
    "tags": []
   },
   "outputs": [],
   "source": [
    "# Display Spitzer Data\n",
    "fig = plt.figure(figsize=(7,7))\n",
    "with fits.open(spitzer_file) as fp:\n",
    "    plt.imshow(fp[0].data[2500:3360,1800:2730], norm='symlog')"
   ]
  },
  {
   "cell_type": "markdown",
   "id": "0c8c9e30-44ae-4bd9-a206-729b30208445",
   "metadata": {
    "tags": []
   },
   "source": [
    "#### D. Display All The Images Together:"
   ]
  },
  {
   "cell_type": "code",
   "execution_count": null,
   "id": "fc78d137-a59c-44bc-ab2d-61d7e8757080",
   "metadata": {
    "tags": []
   },
   "outputs": [],
   "source": [
    "fig,axs = plt.subplots(1,4,figsize=(14,4))\n",
    "\n",
    "axs[0].imshow(plt.imread(hst_file)[20:-20,20:-20])\n",
    "axs[0].set_title('HST')\n",
    "\n",
    "axs[1].imshow(plt.imread(galex_file)[820:-820,800:-800])\n",
    "axs[1].set_title('Galex')\n",
    "\n",
    "axs[2].imshow(plt.imread(chandra_file)[600:-50,300:-300])\n",
    "axs[2].set_title('Chandra')\n",
    "\n",
    "with fits.open(spitzer_file) as fp:\n",
    "    axs[3].imshow(fp[0].data[2500:3360,1800:2730], norm='symlog')\n",
    "axs[3].set_title('Spitzer')"
   ]
  },
  {
   "cell_type": "markdown",
   "id": "6b6a7bf6-adf7-4b67-817b-799ca3a6c57f",
   "metadata": {
    "tags": []
   },
   "source": [
    "---\n",
    "## 4. Cutout From Cloud\n",
    "- In the previous examples, we had to download the whole image files and then plot a small cutout of the galaxy.\n",
    "- This can be slow for large files.\n",
    "- The following is an example of how a cutout can be done for part of the image that is stored in the cloud, applied to the Spitzer image."
   ]
  },
  {
   "cell_type": "code",
   "execution_count": null,
   "id": "40425094-fc7a-4e56-b5e3-ef0a9a724144",
   "metadata": {
    "tags": []
   },
   "outputs": [],
   "source": [
    "# First, we obtain a cloud link to the image\n",
    "s3_uri = spitzer_aws.get_links()[0]\n",
    "print(s3_uri)"
   ]
  },
  {
   "cell_type": "code",
   "execution_count": null,
   "id": "d082ee87-a28d-4520-95ab-1088698dfa03",
   "metadata": {
    "tags": []
   },
   "outputs": [],
   "source": [
    "# we do the cutout\n",
    "t0 = time.time()\n",
    "with fits.open(s3_uri, fsspec_kwargs={\"anon\": True}) as hdul:  \n",
    "    cutout = hdul[0].section[2500:3360,1800:2730]\n",
    "print(f'Cutout time {time.time() - t0:.3} seconds')"
   ]
  },
  {
   "cell_type": "code",
   "execution_count": null,
   "id": "57f3f967-105d-4a79-b84a-04c4c7261308",
   "metadata": {
    "tags": []
   },
   "outputs": [],
   "source": [
    "# then we display it\n",
    "fig = plt.figure(figsize=(7,7))\n",
    "plt.imshow(cutout, norm='symlog')"
   ]
  },
  {
   "cell_type": "code",
   "execution_count": null,
   "id": "719e747a-435a-43f8-8a13-2e3acf7bebc7",
   "metadata": {},
   "outputs": [],
   "source": []
  }
 ],
 "metadata": {
  "kernelspec": {
   "display_name": "Python 3 (ipykernel)",
   "language": "python",
   "name": "python3"
  },
  "language_info": {
   "codemirror_mode": {
    "name": "ipython",
    "version": 3
   },
   "file_extension": ".py",
   "mimetype": "text/x-python",
   "name": "python",
   "nbconvert_exporter": "python",
   "pygments_lexer": "ipython3",
   "version": "3.10.11"
  }
 },
 "nbformat": 4,
 "nbformat_minor": 5
}
