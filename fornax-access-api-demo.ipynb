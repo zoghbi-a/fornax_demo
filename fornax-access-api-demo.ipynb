{
 "cells": [
  {
   "cell_type": "markdown",
   "id": "c32d9426-6be9-44e1-815d-bcdcbdaa9d6d",
   "metadata": {},
   "source": [
    "# Fornax Cloud Access Demo\n",
    "\n",
    "This notebook illustrates the cloud access tools developed as part of the Fornax project.\n",
    "\n",
    "It uses `pyvo`, a python client that uses the Virtual Observatory protocols to find data, then it uses the code from the `fornax` library to download data from the cloud. These features are illustrated by finding data for the galaxy M82 from HST, Galex, Chandra and Spitzer and downloading it from AWS.\n",
    "\n",
    "\n",
    "**Author**: Abdu Zoghbi (HEASARC); on behalf of the Fornax Team (HEASARC, MAST, IRSA)\n",
    "\n",
    "**Date**: 10-Jul-2023"
   ]
  },
  {
   "cell_type": "markdown",
   "id": "303fa391-f606-4b0d-bbc5-4e855213bf97",
   "metadata": {},
   "source": [
    "### Import relevant Modules"
   ]
  },
  {
   "cell_type": "code",
   "execution_count": null,
   "id": "d8f0b5e3-39c2-48ac-b0d4-9a50a8eeac34",
   "metadata": {
    "tags": []
   },
   "outputs": [],
   "source": [
    "import os\n",
    "import sys\n",
    "\n",
    "sys.path.insert(0, os.getcwd())\n",
    "from demo_helpers import *\n",
    "import fornax\n"
   ]
  },
  {
   "cell_type": "markdown",
   "id": "aad0fb49-b5c1-4bb9-b6df-040fe3c20ad3",
   "metadata": {},
   "source": [
    "### Define some sky position"
   ]
  },
  {
   "cell_type": "code",
   "execution_count": null,
   "id": "f8287ef3-a133-4331-b566-aa5c8055713a",
   "metadata": {
    "tags": []
   },
   "outputs": [],
   "source": [
    "pos = coord.SkyCoord.from_name(\"M82\")"
   ]
  },
  {
   "cell_type": "markdown",
   "id": "f9ab34bc-3973-45eb-b885-405e87e14d5a",
   "metadata": {},
   "source": [
    "---\n",
    "## 1. Search for HST Data for the Source"
   ]
  },
  {
   "cell_type": "code",
   "execution_count": null,
   "id": "c31cb9b4-28b5-4b7f-aaa5-b856149f2a92",
   "metadata": {
    "tags": []
   },
   "outputs": [],
   "source": [
    "hst_url = 'https://mast.stsci.edu/portal_vo/Mashup/VoQuery.asmx/SiaV1?MISSION=HST&'\n",
    "hst_service = pyvo.dal.sia.SIAService(hst_url)\n",
    "query_result = hst_service.search(pos=(pos.ra.deg, pos.dec.deg), size=10*u.arcsec)\n",
    "print(f'The query returned {len(query_result)} entries')"
   ]
  },
  {
   "cell_type": "code",
   "execution_count": null,
   "id": "54f817a6-bbf9-478d-b2a5-912772f7736a",
   "metadata": {
    "tags": []
   },
   "outputs": [],
   "source": [
    "hst_result = filter_hst_results(query_result)\n",
    "print(f'Filtering resulted in {len(hst_result)} entries')"
   ]
  },
  {
   "cell_type": "markdown",
   "id": "3fe09770-bf16-4dd2-9a16-3a34b967a5a2",
   "metadata": {},
   "source": [
    "### 1.1. Download data from On-prem servers:"
   ]
  },
  {
   "cell_type": "code",
   "execution_count": null,
   "id": "557b769c-f2fe-451d-a704-cd2ca6363787",
   "metadata": {
    "tags": []
   },
   "outputs": [],
   "source": [
    "hst_product = hst_result[-4]\n",
    "hst_prem = fornax.get_data_product2(hst_product, 'prem')\n",
    "hst_file = hst_prem.download()\n",
    "print(f'\\nThe Downloaded file is: {hst_file}')"
   ]
  },
  {
   "cell_type": "markdown",
   "id": "2bbeef1a-3560-4d3a-9748-a5fd9c7d2a17",
   "metadata": {},
   "source": [
    "### 1.2. Download data from AWS:\n",
    "First we show how the cloud information is served."
   ]
  },
  {
   "cell_type": "code",
   "execution_count": null,
   "id": "1ac88017-b14a-40a2-b706-1ff9e28016f3",
   "metadata": {
    "tags": []
   },
   "outputs": [],
   "source": [
    "hst_product['cloud_access']"
   ]
  },
  {
   "cell_type": "markdown",
   "id": "572339fc-70b7-434f-adf1-7d2b868e1234",
   "metadata": {},
   "source": [
    "Then, we download it from the cloud, and plot it"
   ]
  },
  {
   "cell_type": "code",
   "execution_count": null,
   "id": "2d761af5-6227-4dee-8f60-6b7387b9648e",
   "metadata": {
    "tags": []
   },
   "outputs": [],
   "source": [
    "# hst_aws = fornax.get_data_product2(hst_product, 'aws')\n",
    "# hst_file = hst_aws.download()"
   ]
  },
  {
   "cell_type": "code",
   "execution_count": null,
   "id": "49f9810f-5005-44ea-ae61-0a4ae3819dd6",
   "metadata": {
    "tags": []
   },
   "outputs": [],
   "source": [
    "fig = plt.figure(figsize=(10,10))\n",
    "plt.imshow(plt.imread(hst_file))"
   ]
  },
  {
   "cell_type": "markdown",
   "id": "bdc75c31-4b07-4f56-a2bd-20b9d5b32ab8",
   "metadata": {},
   "source": [
    "---\n",
    "## 2. Search for Galex Data for the Source"
   ]
  },
  {
   "cell_type": "code",
   "execution_count": null,
   "id": "00d390f0-3ec0-4938-818c-5be6fc8b37aa",
   "metadata": {},
   "outputs": [],
   "source": [
    "# Query data provider \n",
    "galex_url = hst_url.replace('HST', 'GALEX')\n",
    "galex_service = pyvo.dal.sia.SIAService(galex_url)\n",
    "query_result = galex_service.search(pos=(pos.ra.deg, pos.dec.deg), size=10*u.arcsec)\n",
    "print(f'The query returned {len(query_result)} entries')"
   ]
  },
  {
   "cell_type": "code",
   "execution_count": null,
   "id": "6bbe37c5-cf36-46e7-be16-5804a02ce4e8",
   "metadata": {},
   "outputs": [],
   "source": [
    "# filter GALEX data\n",
    "galex_result = filter_galex_results(query_result)\n",
    "print(f'Filtering resulted in {len(galex_result)} entries')"
   ]
  },
  {
   "cell_type": "markdown",
   "id": "ec00f359-90b5-4a5e-aa92-3f53ff88361b",
   "metadata": {
    "tags": []
   },
   "source": [
    "### 2.1 Download Galex Data from Cloud & Plot it"
   ]
  },
  {
   "cell_type": "code",
   "execution_count": null,
   "id": "99d2569d-522b-4ff3-946a-94b8c9a243b3",
   "metadata": {
    "tags": []
   },
   "outputs": [],
   "source": [
    "#galex_prem = fornax.get_data_product2(galex_result[0], 'prem')\n",
    "#galex_file = galex_prem.download()\n",
    "\n",
    "# again, we print the cloud information provided\n",
    "print(galex_result[0]['cloud_access'])\n",
    "\n",
    "galex_aws = fornax.get_data_product2(galex_result[1], 'aws')\n",
    "galex_file = galex_aws.download()\n",
    "\n",
    "print(f'\\nThe Downloaded file is: {galex_file}')"
   ]
  },
  {
   "cell_type": "code",
   "execution_count": null,
   "id": "1c820826-1d13-48ce-9307-096d6e4392a5",
   "metadata": {
    "tags": []
   },
   "outputs": [],
   "source": [
    "fig = plt.figure(figsize=(10,10))\n",
    "plt.imshow(plt.imread(galex_file)[600:-600,600:-600])"
   ]
  },
  {
   "cell_type": "markdown",
   "id": "26fd10c9-56ad-4aa2-a18c-ab1c63648ea8",
   "metadata": {},
   "source": [
    "---\n",
    "## 3. Search for Chandra Data for the Source"
   ]
  },
  {
   "cell_type": "code",
   "execution_count": null,
   "id": "f336ab77-e71c-4c7c-9769-fecbe1d170af",
   "metadata": {},
   "outputs": [],
   "source": [
    "# Query data provider \n",
    "chandra_url = 'https://heasarc.gsfc.nasa.gov/xamin_aws/vo/sia?table=chanmaster'\n",
    "chandra_service = pyvo.dal.sia.SIAService(chandra_url)\n",
    "query_result = chandra_service.search(pos=(pos.ra.deg, pos.dec.deg), size=10*u.arcsec)\n",
    "\n",
    "print(f'The query returned {len(query_result)} entries')"
   ]
  },
  {
   "cell_type": "code",
   "execution_count": null,
   "id": "0322cfd9-5149-49a3-9a46-16fc5ab784a6",
   "metadata": {},
   "outputs": [],
   "source": [
    "#chandra_prem = fornax.get_data_product2(chandra_result[-1], 'prem')\n",
    "#chandra_file = chandra_prem.download()\n",
    "\n",
    "# again, we print the cloud information provided\n",
    "print(query_result[-1]['cloud_access'])\n",
    "\n",
    "chandra_aws = fornax.get_data_product2(query_result[-5], 'aws', 'ucd')\n",
    "chandra_file = chandra_aws.download()\n",
    "\n",
    "print(f'\\nThe Downloaded file is: {chandra_file}')"
   ]
  },
  {
   "cell_type": "code",
   "execution_count": null,
   "id": "737460f1-9952-45b4-8a31-ae3c28796590",
   "metadata": {},
   "outputs": [],
   "source": [
    "fig = plt.figure(figsize=(10,10))\n",
    "plt.imshow(plt.imread(chandra_file)[600:-50,300:-300])"
   ]
  },
  {
   "cell_type": "markdown",
   "id": "f386e25b-120d-4bb6-aeac-5e1c30b8d2c0",
   "metadata": {
    "tags": []
   },
   "source": [
    "---\n",
    "## 4. Search for Spitzer Data for the Source"
   ]
  },
  {
   "cell_type": "code",
   "execution_count": null,
   "id": "6bfe0a03-336c-4c2c-a4df-524d643aaa60",
   "metadata": {
    "tags": []
   },
   "outputs": [],
   "source": [
    "# Query data provider \n",
    "spizter_url = 'https://irsa.ipac.caltech.edu/SIA'\n",
    "spizter_service = pyvo.dal.sia2.SIAService(spizter_url)\n",
    "query_result = spizter_service.search(pos=(pos.ra.deg, pos.dec.deg, 10*u.arcsec),\n",
    "                                      collection='spitzer_seip')\n",
    "# get it in a table format\n",
    "spitzer_result = query_result.to_table()\n",
    "spitzer_result.sort('access_url')\n",
    "\n",
    "\n",
    "print(f'The query returned {len(query_result)} entries')"
   ]
  },
  {
   "cell_type": "markdown",
   "id": "6647af28-432e-42f9-a29a-fd3590ca536f",
   "metadata": {},
   "source": [
    "### 4.1 Download Spitzer Data from Cloud & Plot a cutout\n",
    "\n",
    "We time it to check performance"
   ]
  },
  {
   "cell_type": "code",
   "execution_count": null,
   "id": "4c768440-393e-45a9-959e-02385394dc34",
   "metadata": {
    "tags": []
   },
   "outputs": [],
   "source": [
    "t0 = time.time()\n",
    "#spitzer_prem = fornax.get_data_product2(spitzer_result[4], 'prem')\n",
    "#spitzer_file = spitzer_prem.download()\n",
    "\n",
    "# again, we print the cloud information provided\n",
    "print(spitzer_result[4]['cloud_access'])\n",
    "\n",
    "spitzer_aws = fornax.get_data_product2(spitzer_result[4], 'aws')\n",
    "spitzer_file = spitzer_aws.download()\n",
    "\n",
    "print(f'\\nThe Downloaded file is: {spitzer_file}')\n",
    "print(f'It took {time.time() - t0:.3} seconds')"
   ]
  },
  {
   "cell_type": "code",
   "execution_count": null,
   "id": "48b6b097-5897-4317-9902-699ca9b41888",
   "metadata": {
    "tags": []
   },
   "outputs": [],
   "source": [
    "fig = plt.figure(figsize=(10,10))\n",
    "with fits.open(spitzer_file) as fp:\n",
    "    plt.imshow(fp[0].data[2500:3360,1800:2730], norm='symlog')"
   ]
  },
  {
   "cell_type": "markdown",
   "id": "edd1afa2-6264-44bb-afae-08fcc7a9abcf",
   "metadata": {},
   "source": [
    "### 4.2 Do Cloud Cutout without Downloading the data"
   ]
  },
  {
   "cell_type": "code",
   "execution_count": null,
   "id": "a29398cf-d27c-4426-9df1-248647f7df07",
   "metadata": {
    "tags": []
   },
   "outputs": [],
   "source": [
    "# using cloud cutout\n",
    "s3_uri = spitzer_aws.get_links()[0]\n",
    "print(s3_uri)"
   ]
  },
  {
   "cell_type": "code",
   "execution_count": null,
   "id": "a8aae0f7-1c97-4eba-9b02-18335398bdae",
   "metadata": {
    "tags": []
   },
   "outputs": [],
   "source": [
    "t0 = time.time()\n",
    "with fits.open(s3_uri, fsspec_kwargs={\"anon\": True}) as hdul:  \n",
    "    cutout = hdul[0].section[2500:3360,1800:2730]\n",
    "print(f'Cutout time {time.time() - t0:.3} seconds')"
   ]
  },
  {
   "cell_type": "code",
   "execution_count": null,
   "id": "62415ed7-c271-43a4-a60c-9c05f3505763",
   "metadata": {},
   "outputs": [],
   "source": [
    "fig = plt.figure(figsize=(10,10))\n",
    "plt.imshow(cutout, norm='symlog')"
   ]
  },
  {
   "cell_type": "markdown",
   "id": "cfa307bf-83bb-4932-af98-3f47dab7a54e",
   "metadata": {},
   "source": [
    "---\n",
    "## 5. Put all the images together"
   ]
  },
  {
   "cell_type": "code",
   "execution_count": null,
   "id": "cddc94bb-35a6-45bc-8ea8-88557a1c5017",
   "metadata": {
    "tags": []
   },
   "outputs": [],
   "source": [
    "fig,axs = plt.subplots(1,4,figsize=(14,4))\n",
    "\n",
    "axs[0].imshow(plt.imread(hst_file))\n",
    "axs[0].set_title('HST')\n",
    "\n",
    "axs[1].imshow(plt.imread(galex_file)[800:-800,800:-800])\n",
    "axs[1].set_title('Galex')\n",
    "\n",
    "axs[2].imshow(plt.imread(chandra_file)[600:-50,300:-300])\n",
    "axs[2].set_title('Chandra')\n",
    "\n",
    "axs[3].imshow(cutout, norm='symlog')\n",
    "axs[3].set_title('Spitzer')"
   ]
  },
  {
   "cell_type": "code",
   "execution_count": null,
   "id": "719e747a-435a-43f8-8a13-2e3acf7bebc7",
   "metadata": {},
   "outputs": [],
   "source": []
  }
 ],
 "metadata": {
  "kernelspec": {
   "display_name": "Python 3 (ipykernel)",
   "language": "python",
   "name": "python3"
  },
  "language_info": {
   "codemirror_mode": {
    "name": "ipython",
    "version": 3
   },
   "file_extension": ".py",
   "mimetype": "text/x-python",
   "name": "python",
   "nbconvert_exporter": "python",
   "pygments_lexer": "ipython3",
   "version": "3.10.11"
  }
 },
 "nbformat": 4,
 "nbformat_minor": 5
}
